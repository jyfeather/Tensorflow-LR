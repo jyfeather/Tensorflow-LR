{
 "cells": [
  {
   "cell_type": "code",
   "execution_count": 7,
   "metadata": {},
   "outputs": [],
   "source": [
    "# -*- coding: utf-8 -*-\n",
    "import random\n",
    "import math\n",
    "import matplotlib.pyplot as plt"
   ]
  },
  {
   "cell_type": "code",
   "execution_count": 4,
   "metadata": {},
   "outputs": [],
   "source": [
    "class BernoulliArm(object):\n",
    "    def __init__(self, p):\n",
    "        self.p = p\n",
    "        \n",
    "    def step(self):\n",
    "        if random.random() < self.p:\n",
    "            return 1.0\n",
    "        else:\n",
    "            return 0.0"
   ]
  },
  {
   "cell_type": "markdown",
   "metadata": {},
   "source": [
    "### A/B Testing\n",
    "向用户随机展示两张图片，一段时间后，哪张图片的点击率高，就用哪张。对应到多臂老虎机问题，一张图片，便是多臂老虎机的一个臂。"
   ]
  },
  {
   "cell_type": "code",
   "execution_count": 6,
   "metadata": {},
   "outputs": [],
   "source": [
    "class ABTest(object):\n",
    "    \n",
    "    def __init__(self, arm_n):\n",
    "        self.arm_n = arm_n\n",
    "    \n",
    "    def pull(self):\n",
    "        return random.choice(range(self.arm_n))\n",
    "    \n",
    "    def update(self, arm, reward):\n",
    "        pass\n",
    "    \n",
    "    def __str__(self):\n",
    "        return 'ab test'\n",
    "    \n",
    "    def __repr__(self):\n",
    "        return 'ABTest(arm_n)'.format(arm_n=self.arm_n)"
   ]
  },
  {
   "cell_type": "markdown",
   "metadata": {},
   "source": [
    "### Epsilon Greedy\n",
    "与A/B Testing 相比，Epsilon Greedy 控制了随机使用老虎机的次数。\n",
    "\n",
    "其中平均回报率的计算为，设$R_n$为使用n次老虎机后的平均回报，$r_{n+1}$为第n+1次的回报，则\n",
    "$$R_{n+1}=\\frac{R_n \\times n + r_{n+1}}{n+1} = R_n + \\frac{r_{n+1}-R_n}{n+1}$$"
   ]
  },
  {
   "cell_type": "code",
   "execution_count": 16,
   "metadata": {},
   "outputs": [],
   "source": [
    "class EpsilonGreedy(object):\n",
    "    \n",
    "    def __init__(self, arm_n, epsilon):\n",
    "        self.arm_n = arm_n\n",
    "        self.epsilon = epsilon\n",
    "        self.counts = [0.0 for _ in range(self.arm_n)] # 记录每个臂被使用的次数\n",
    "        self.values = [0.0 for _ in range(self.arm_n)] # 记录每个臂的回报\n",
    "    \n",
    "    def update(self, arm, reward):\n",
    "        self.counts[arm] += 1\n",
    "        self.values[arm] += (reward - self.values[arm]) / self.counts[arm]\n",
    "        \n",
    "    def pull(self):\n",
    "        \"\"\"\n",
    "        其中由1-epsilon的概率，做exploit\n",
    "        \"\"\"\n",
    "        for arm in range(self.arm_n):\n",
    "            if self.counts[arm] == 0:\n",
    "                return arm\n",
    "            \n",
    "        if random.random() < self.epsilon: # explore，随机选择臂\n",
    "            return random.choice(range(self.arm_n))\n",
    "        else: # exploit，选择历史回报最高的臂\n",
    "            m = max(self.values)\n",
    "            return self.values.index(m)\n",
    "    \n",
    "    def __str__(self):\n",
    "        return 'epsilon greedy: %s' % self.epsilon\n",
    "    \n",
    "    def __repr__(self):\n",
    "        return 'epsilon greedy (arm_n, epsilon)'.format(arm_n=self.arm_n, epsilon=self.epsilon)"
   ]
  },
  {
   "cell_type": "markdown",
   "metadata": {},
   "source": [
    "### Softmax Strategy\n",
    "Epsilon-greedy 对于不同性能的臂是不敏感的，而softmax的方法能够根据臂的历史回报值调整选择该臂的概率。\n",
    "\n",
    "$$p_k = \\frac{\\exp(\\frac{\\hat{\\mu}_k}{\\tau})}{\\sum_{i=1}^n\\exp(\\frac{\\hat{\\mu}_i}{\\tau})}$$"
   ]
  },
  {
   "cell_type": "code",
   "execution_count": 18,
   "metadata": {},
   "outputs": [],
   "source": [
    "class Softmax(object):\n",
    "    \n",
    "    def __init__(self, arm_n, temperature):\n",
    "        self.arm_n = arm_n\n",
    "        self.temperature = temperature\n",
    "        self.counts = [0.0 for _ in range(self.arm_n)]\n",
    "        self.values = [0.0 for _ in range(self.arm_n)]\n",
    "    \n",
    "    def update(self, arm, reward):\n",
    "        self.counts[arm] += 1\n",
    "        self.values[arm] += (reward - self.values[arm]) / self.counts[arm]\n",
    "        \n",
    "    def pull(self):\n",
    "        for arm in range(self.arm_n):\n",
    "            if self.counts[arm] == 0:\n",
    "                return arm\n",
    "            \n",
    "        s = sum([math.exp(v/self.temperature) for v in self.values])\n",
    "        probs = [math.exp(v/self.temperature) / s for v in self.values]\n",
    "        m = max(probs)\n",
    "        return probs.index(m)\n",
    "    \n",
    "    def __str__(self):\n",
    "        return 'softmax: %s' % self.temperature\n",
    "        \n",
    "    def __repr__(self):\n",
    "        return 'Softmax(arm_n, temperature)'.format(arm_n=self.arm_n, temperature=self.temperature)"
   ]
  },
  {
   "cell_type": "markdown",
   "metadata": {},
   "source": [
    "### UCB1\n",
    "根据下面的公式进行更新\n",
    "\n",
    "$$ i_t = \\arg\\max \\bigg[ \\hat{\\mu}_i + \\sqrt{\\frac{c\\log t}{n_i}} \\bigg]$$"
   ]
  },
  {
   "cell_type": "code",
   "execution_count": 23,
   "metadata": {},
   "outputs": [],
   "source": [
    "class UCB1(object):\n",
    "    \n",
    "    def __init__(self, arm_n):\n",
    "        self.arm_n = arm_n\n",
    "        self.counts = [0.0 for _ in range(self.arm_n)]\n",
    "        self.values = [0.0 for _ in range(self.arm_n)]\n",
    "        \n",
    "    def update(self, arm, reward):\n",
    "        self.counts[arm] += 1\n",
    "        self.values[arm] += (reward - self.values[arm]) / self.counts[arm]\n",
    "        \n",
    "    def pull(self):\n",
    "        for arm in range(self.arm_n):\n",
    "            if self.counts[arm] == 0:\n",
    "                return arm\n",
    "        \n",
    "        t = sum(self.counts)\n",
    "        ucbs = [self.values[arm] + math.sqrt((2*math.log(t))/self.counts[arm]) for arm in range(self.arm_n)]\n",
    "        m = max(ucbs)\n",
    "        return ucbs.index(m)\n",
    "        \n",
    "    def __str__(self):\n",
    "        return 'ucb1'\n",
    "        \n",
    "    def __repr__(self):\n",
    "        return 'UCB1(arm_n)'.format(arm_n=self.arm_n)"
   ]
  },
  {
   "cell_type": "markdown",
   "metadata": {},
   "source": [
    "### 实验比较"
   ]
  },
  {
   "cell_type": "code",
   "execution_count": 9,
   "metadata": {},
   "outputs": [],
   "source": [
    "arms = [BernoulliArm(0.1), BernoulliArm(0.1), BernoulliArm(0.1), BernoulliArm(0.1), BernoulliArm(0.9)]"
   ]
  },
  {
   "cell_type": "code",
   "execution_count": 10,
   "metadata": {},
   "outputs": [],
   "source": [
    "def algorithm_demo(arms, algorithm, episodes):\n",
    "    \"\"\"\n",
    "    s: 平均回报率的变化\n",
    "    \"\"\"\n",
    "    r, s = 0.0, []\n",
    "    for episode in range(episodes):\n",
    "        arm = algorithm.pull()\n",
    "        reward = arms[arm].step()\n",
    "        algorithm.update(arm, reward)\n",
    "        r += reward\n",
    "        s.append(r/(episode+1))\n",
    "    return s"
   ]
  },
  {
   "cell_type": "code",
   "execution_count": 25,
   "metadata": {},
   "outputs": [
    {
     "data": {
      "image/png": "[encoded data removed]",
      "text/plain": [
       "<matplotlib.figure.Figure at 0x108d37908>"
      ]
     },
     "metadata": {},
     "output_type": "display_data"
    },
    {
     "data": {
      "text/plain": [
       "(<matplotlib.legend.Legend at 0x108d37dd8>, None, None)"
      ]
     },
     "execution_count": 25,
     "metadata": {},
     "output_type": "execute_result"
    }
   ],
   "source": [
    "algorithms = [ABTest(5), EpsilonGreedy(5,0.1), Softmax(5,0.1), UCB1(5)]\n",
    "ss = [algorithm_demo(arms, algorithm, 1000) for algorithm in algorithms]\n",
    "[plt.plot(range(1000), ss[i], label=str(algorithms[i])) for i in range(4)]\n",
    "plt.legend(), plt.grid(), plt.show()"
   ]
  },
  {
   "cell_type": "code",
   "execution_count": null,
   "metadata": {},
   "outputs": [],
   "source": []
  }
 ],
 "metadata": {
  "kernelspec": {
   "display_name": "Python 3",
   "language": "python",
   "name": "python3"
  },
  "language_info": {
   "codemirror_mode": {
    "name": "ipython",
    "version": 3
   },
   "file_extension": ".py",
   "mimetype": "text/x-python",
   "name": "python",
   "nbconvert_exporter": "python",
   "pygments_lexer": "ipython3",
   "version": "3.6.4"
  },
  "toc": {
   "nav_menu": {},
   "number_sections": true,
   "sideBar": true,
   "skip_h1_title": false,
   "toc_cell": false,
   "toc_position": {},
   "toc_section_display": "block",
   "toc_window_display": false
  }
 },
 "nbformat": 4,
 "nbformat_minor": 2
}
