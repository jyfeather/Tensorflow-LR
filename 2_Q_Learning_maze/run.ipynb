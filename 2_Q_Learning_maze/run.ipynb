{
 "cells": [
  {
   "cell_type": "markdown",
   "metadata": {},
   "source": [
    "## Q Learning实现迷宫游戏\n",
    "\n",
    "红框: 探索者  \n",
    "黑框: 地狱（reward=-1）  \n",
    "黄圈: 天堂（reward=+1）  \n",
    "其他: 地面（reward=0）"
   ]
  },
  {
   "cell_type": "code",
   "execution_count": 1,
   "metadata": {},
   "outputs": [
    {
     "name": "stdout",
     "output_type": "stream",
     "text": [
      "game over\n"
     ]
    }
   ],
   "source": [
    "from maze_env import Maze # python GUI 模块\n",
    "from RL_brain import QLearningTable # RL brain 模块\n",
    "\n",
    "\n",
    "def update():\n",
    "    for episode in range(100): # 学习一百个回合\n",
    "        # 初始化 state\n",
    "        observation = env.reset()\n",
    "\n",
    "        while True:\n",
    "            # 更新可视化环境\n",
    "            env.render()\n",
    "\n",
    "            # RL 大脑根据 state 的观测值挑选 action\n",
    "            action = RL.choose_action(str(observation))\n",
    "\n",
    "            # 探索者在环境中实施这个 action, 并得到环境返回的下一个 state 观测值, reward 和 done (是否是掉下地狱或者升上天堂)\n",
    "            observation_, reward, done = env.step(action)\n",
    "\n",
    "            # RL 从这个序列 (state, action, reward, state_) 中学习\n",
    "            RL.learn(str(observation), action, reward, str(observation_))\n",
    "\n",
    "            # 将下一个 state 的值传到下一次循环\n",
    "            observation = observation_\n",
    "\n",
    "            # 如果掉下地狱或者升上天堂, 这回合就结束了\n",
    "            if done:\n",
    "                break\n",
    "\n",
    "    # 结束游戏并关闭窗口\n",
    "    print('game over')\n",
    "    env.destroy()\n",
    "\n",
    "if __name__ == \"__main__\":\n",
    "    env = Maze()\n",
    "    RL = QLearningTable(actions=list(range(env.n_actions)))\n",
    "\n",
    "    env.after(100, update)\n",
    "    env.mainloop()"
   ]
  },
  {
   "cell_type": "code",
   "execution_count": null,
   "metadata": {},
   "outputs": [],
   "source": []
  }
 ],
 "metadata": {
  "kernelspec": {
   "display_name": "Python 3",
   "language": "python",
   "name": "python3"
  },
  "language_info": {
   "codemirror_mode": {
    "name": "ipython",
    "version": 3
   },
   "file_extension": ".py",
   "mimetype": "text/x-python",
   "name": "python",
   "nbconvert_exporter": "python",
   "pygments_lexer": "ipython3",
   "version": "3.6.4"
  },
  "toc": {
   "nav_menu": {},
   "number_sections": true,
   "sideBar": true,
   "skip_h1_title": false,
   "toc_cell": false,
   "toc_position": {},
   "toc_section_display": "block",
   "toc_window_display": false
  }
 },
 "nbformat": 4,
 "nbformat_minor": 2
}
