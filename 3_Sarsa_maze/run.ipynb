{
 "cells": [
  {
   "cell_type": "markdown",
   "metadata": {},
   "source": [
    "## 使用 Sarsa 实现迷宫游戏"
   ]
  },
  {
   "cell_type": "markdown",
   "metadata": {},
   "source": [
    "### Sarsa 与 Q Learning 的区别\n",
    "**Sarsa**:\n",
    "- on policy：说到做到，学着自己在做的事情\n",
    "- 更新 Q Table的方法：\n",
    "  - $Q(s,a) \\leftarrow Q(s,a)+\\alpha[r+\\gamma Q(s',a')-Q(s,a)]$ \n",
    "  - $s \\leftarrow s'$, $a \\leftarrow a'$\n",
    "\n",
    "**Q Learning**:\n",
    "- off policy：说到但并不一定做到\n",
    "- 更新 Q Table的方法：\n",
    "  - $Q(s,a) \\leftarrow Q(s,a)+\\alpha[r+\\gamma \\max Q(s',a')-Q(s,a)]$ \n",
    "  - $s \\leftarrow s'$"
   ]
  },
  {
   "cell_type": "code",
   "execution_count": null,
   "metadata": {},
   "outputs": [],
   "source": [
    "from maze_env import Maze\n",
    "from RL_brain import SarsaTable\n",
    "\n",
    "\n",
    "def update():\n",
    "    for episode in range(100):\n",
    "        # initial observation\n",
    "        observation = env.reset()\n",
    "\n",
    "        # RL choose action based on observation\n",
    "        action = RL.choose_action(str(observation))\n",
    "\n",
    "        while True:\n",
    "            # fresh env\n",
    "            env.render()\n",
    "\n",
    "            # 在环境中采取行为, 获得下一个 state_ (obervation_), reward, 和是否终止\n",
    "            observation_, reward, done = env.step(action)\n",
    "\n",
    "            # 根据下一个 state (obervation_) 选取下一个 action_\n",
    "            action_ = RL.choose_action(str(observation_))\n",
    "\n",
    "            # 从 (s, a, r, s, a) 中学习, 更新 Q_tabel 的参数 ==> Sarsa\n",
    "            RL.learn(str(observation), action, reward, str(observation_), action_)\n",
    "\n",
    "            # 将下一个当成下一步的 state (observation) and action\n",
    "            observation = observation_\n",
    "            action = action_\n",
    "\n",
    "            # 终止时跳出循环\n",
    "            if done:\n",
    "                break\n",
    "\n",
    "    # end of game\n",
    "    print('game over')\n",
    "    env.destroy()\n",
    "\n",
    "if __name__ == \"__main__\":\n",
    "    env = Maze()\n",
    "    RL = SarsaTable(actions=list(range(env.n_actions)))\n",
    "\n",
    "    env.after(100, update)\n",
    "    env.mainloop()"
   ]
  },
  {
   "cell_type": "code",
   "execution_count": null,
   "metadata": {},
   "outputs": [],
   "source": []
  }
 ],
 "metadata": {
  "kernelspec": {
   "display_name": "Python 3",
   "language": "python",
   "name": "python3"
  },
  "language_info": {
   "codemirror_mode": {
    "name": "ipython",
    "version": 3
   },
   "file_extension": ".py",
   "mimetype": "text/x-python",
   "name": "python",
   "nbconvert_exporter": "python",
   "pygments_lexer": "ipython3",
   "version": "3.6.4"
  },
  "toc": {
   "nav_menu": {},
   "number_sections": true,
   "sideBar": true,
   "skip_h1_title": false,
   "toc_cell": false,
   "toc_position": {},
   "toc_section_display": "block",
   "toc_window_display": false
  }
 },
 "nbformat": 4,
 "nbformat_minor": 2
}
